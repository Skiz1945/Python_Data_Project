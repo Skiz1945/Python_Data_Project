{
 "cells": [
  {
   "cell_type": "markdown",
   "id": "50249611",
   "metadata": {},
   "source": [
    "<a target=\"_blank\" href=\"https://colab.research.google.com/github/lukebarousse/Python_Data_Analytics_Course/blob/main/4_Problems/2_02_Pandas Data Cleaning.ipynb\">\n",
    "  <img src=\"https://colab.research.google.com/assets/colab-badge.svg\" alt=\"Open In Colab\"/>\n",
    "</a>"
   ]
  },
  {
   "cell_type": "code",
   "execution_count": 3,
   "id": "f0929e6d",
   "metadata": {},
   "outputs": [],
   "source": [
    "# Importing Libraries\n",
    "import pandas as pd\n",
    "from datasets import load_dataset\n",
    "import matplotlib.pyplot as plt  \n",
    "\n",
    "# Loading Data\n",
    "dataset = load_dataset('lukebarousse/data_jobs')\n",
    "df = dataset['train'].to_pandas()\n",
    "\n",
    "# Data Cleanup\n",
    "df['job_posted_date'] = pd.to_datetime(df['job_posted_date'])"
   ]
  },
  {
   "cell_type": "markdown",
   "id": "7e5d8211",
   "metadata": {},
   "source": [
    "## 🟩 Remove Rows with Missing Values (2.2.1)"
   ]
  },
  {
   "cell_type": "code",
   "execution_count": 4,
   "id": "a24b4254",
   "metadata": {},
   "outputs": [],
   "source": [
    "df_unique = df['salary_year_avg'].dropna()\n",
    "\n",
    "# df_unique = df.dropna(subset=['salary_year_avg'])  ---- other way ----"
   ]
  },
  {
   "cell_type": "code",
   "execution_count": 5,
   "id": "231e4777",
   "metadata": {},
   "outputs": [
    {
     "name": "stdout",
     "output_type": "stream",
     "text": [
      "Count of df       : 785741\n",
      "Count of df_unique: 22003\n",
      "Rows droped       : 763738\n"
     ]
    }
   ],
   "source": [
    "print('Count of df       :', len(df))\n",
    "print('Count of df_unique:', len(df_unique))\n",
    "print('Rows droped       :', len(df)-len(df_unique))"
   ]
  },
  {
   "cell_type": "markdown",
   "id": "a148127f",
   "metadata": {},
   "source": [
    "---"
   ]
  },
  {
   "cell_type": "markdown",
   "id": "eaf03dda",
   "metadata": {},
   "source": [
    "## 🟨 Remove Duplicate Rows (2.2.2)"
   ]
  },
  {
   "cell_type": "code",
   "execution_count": 6,
   "id": "ae6ad853",
   "metadata": {},
   "outputs": [
    {
     "data": {
      "text/plain": [
       "785741"
      ]
     },
     "execution_count": 6,
     "metadata": {},
     "output_type": "execute_result"
    }
   ],
   "source": [
    "rows_before = df.shape[0]         \n",
    "\n",
    "rows_before"
   ]
  },
  {
   "cell_type": "code",
   "execution_count": 7,
   "id": "d971f066",
   "metadata": {},
   "outputs": [
    {
     "data": {
      "text/plain": [
       "17218"
      ]
     },
     "execution_count": 7,
     "metadata": {},
     "output_type": "execute_result"
    }
   ],
   "source": [
    "remove_duplicates = df.drop_duplicates(subset=['job_location'])\n",
    "\n",
    "rows_after = remove_duplicates.shape[0]\n",
    "\n",
    "rows_after"
   ]
  },
  {
   "cell_type": "markdown",
   "id": "472bfc70",
   "metadata": {},
   "source": [
    "---"
   ]
  },
  {
   "cell_type": "markdown",
   "id": "e26a84d6",
   "metadata": {},
   "source": [
    "## 🟨 Fill Missing Values in Column (2.2.3)"
   ]
  },
  {
   "cell_type": "code",
   "execution_count": 8,
   "id": "b96b4fe1",
   "metadata": {},
   "outputs": [],
   "source": [
    "salary_rate_before = df['salary_rate'].head(10)"
   ]
  },
  {
   "cell_type": "markdown",
   "id": "4ab1c267",
   "metadata": {},
   "source": [
    "---"
   ]
  },
  {
   "cell_type": "code",
   "execution_count": 9,
   "id": "b6a5f30d",
   "metadata": {},
   "outputs": [
    {
     "data": {
      "text/plain": [
       "(0    None\n",
       " 1    None\n",
       " 2    None\n",
       " 3    None\n",
       " 4    None\n",
       " 5    None\n",
       " 6    None\n",
       " 7    None\n",
       " 8    None\n",
       " 9    None\n",
       " Name: salary_rate, dtype: object,\n",
       " 0    Unknown\n",
       " 1    Unknown\n",
       " 2    Unknown\n",
       " 3    Unknown\n",
       " 4    Unknown\n",
       " 5    Unknown\n",
       " 6    Unknown\n",
       " 7    Unknown\n",
       " 8    Unknown\n",
       " 9    Unknown\n",
       " Name: salary_rate, dtype: object)"
      ]
     },
     "execution_count": 9,
     "metadata": {},
     "output_type": "execute_result"
    }
   ],
   "source": [
    "df_filled = df.fillna({'salary_rate': 'Unknown'})\n",
    "salary_rate_after = df_filled['salary_rate'].head(10)\n",
    "\n",
    "\n",
    "salary_rate_before, salary_rate_after"
   ]
  }
 ],
 "metadata": {
  "kernelspec": {
   "display_name": "python_course",
   "language": "python",
   "name": "python3"
  },
  "language_info": {
   "codemirror_mode": {
    "name": "ipython",
    "version": 3
   },
   "file_extension": ".py",
   "mimetype": "text/x-python",
   "name": "python",
   "nbconvert_exporter": "python",
   "pygments_lexer": "ipython3",
   "version": "3.11.9"
  }
 },
 "nbformat": 4,
 "nbformat_minor": 5
}
